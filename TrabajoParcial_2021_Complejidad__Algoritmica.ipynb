{
  "nbformat": 4,
  "nbformat_minor": 0,
  "metadata": {
    "colab": {
      "name": "TrabajoParcial_2021_Complejidad _Algoritmica",
      "provenance": [],
      "collapsed_sections": [],
      "authorship_tag": "ABX9TyNj4l8Ud16Xit/amDGx8LJL",
      "include_colab_link": true
    },
    "kernelspec": {
      "name": "python3",
      "display_name": "Python 3"
    },
    "language_info": {
      "name": "python"
    }
  },
  "cells": [
    {
      "cell_type": "markdown",
      "metadata": {
        "id": "view-in-github",
        "colab_type": "text"
      },
      "source": [
        "<a href=\"https://colab.research.google.com/github/brunotiglla/NeoPetCare.V1/blob/master/TrabajoParcial_2021_Complejidad__Algoritmica.ipynb\" target=\"_parent\"><img src=\"https://colab.research.google.com/assets/colab-badge.svg\" alt=\"Open In Colab\"/></a>"
      ]
    },
    {
      "cell_type": "code",
      "metadata": {
        "colab": {
          "base_uri": "https://localhost:8080/"
        },
        "id": "8EsMur147p5y",
        "outputId": "bfe9eef0-7152-46eb-e4f6-9ff4c20a67f8"
      },
      "source": [
        "import pandas as pd\n",
        "import numpy as np\n",
        "import networkx as nx\n",
        "import matplotlib.pyplot as plt\n",
        "import math\n",
        "import heapq as hq\n",
        "import graphviz as gv\n",
        "!git clone https://github.com/lmcanavals/algorithmic_complexity.git\n",
        "from algorithmic_complexity.aclib import graphstuff as gs"
      ],
      "execution_count": 76,
      "outputs": [
        {
          "output_type": "stream",
          "text": [
            "fatal: destination path 'algorithmic_complexity' already exists and is not an empty directory.\n"
          ],
          "name": "stdout"
        }
      ]
    },
    {
      "cell_type": "code",
      "metadata": {
        "id": "Ly2mtG3x79JV"
      },
      "source": [
        "base = \"https://raw.githubusercontent.com/lmcanavals/algorithmic_complexity/main/data/\"\n",
        "csv = \"poblaciones.csv\"\n",
        "DATA_SET = pd.read_csv(f\"{base}{csv}\")"
      ],
      "execution_count": 58,
      "outputs": []
    },
    {
      "cell_type": "markdown",
      "metadata": {
        "id": "OKDCNDhrB9D_"
      },
      "source": [
        "### CODIGO MEJORAD BY JOSIAS"
      ]
    },
    {
      "cell_type": "code",
      "metadata": {
        "id": "HbuanDKhB8rg"
      },
      "source": [
        "def nxBgv(G, weighted=False, params={'rankdir': 'LR', 'size': '6'},\n",
        "          path=None, pathparams={'color':'orangered'}, nodeinfo=False):\n",
        "  if G.is_directed():\n",
        "    g = gv.Digraph('G')\n",
        "  else:\n",
        "    g = gv.Graph('G', strict=True)\n",
        "  g.attr(**params)\n",
        "\n",
        "  for u in G.nodes:\n",
        "    if nodeinfo:\n",
        "      g.node(str(u), **dict(G.nodes[u]))\n",
        "    else:\n",
        "      g.node(str(u))\n",
        "\n",
        " \n",
        "    \n",
        "  for u, v in G.edges():\n",
        "    #print(v,path[v], path)\n",
        "    pp = {} if path and path[v] == u else {}\n",
        "    #print(path[v], u)\n",
        "\n",
        "    if weighted:\n",
        "      g.edge(str(u), str(v), f\"{G.edges[u, v]['weight']}\", **pp)\n",
        "    else:\n",
        "      g.edge(str(u), str(v), **pp)\n",
        "\n",
        "  for u in range(1, len(path)):\n",
        "    pp = pathparams\n",
        "    g.edge(str(u), str(path[u]), f\"{G.edges[u, path[u]]['weight']}\", **pp)       \n",
        "\n",
        "  return g"
      ],
      "execution_count": 112,
      "outputs": []
    },
    {
      "cell_type": "markdown",
      "metadata": {
        "id": "kghBjSjO9_ED"
      },
      "source": [
        "####Calcular Distancia"
      ]
    },
    {
      "cell_type": "code",
      "metadata": {
        "id": "4eT3W2Wl8LyM"
      },
      "source": [
        "def calcularDistancia(cp1,cp2):\n",
        "    la1, lo1 = float(cp1['LATITUD']), float(cp1['LONGITUD'])\n",
        "    la2, lo2 = float(cp2['LATITUD']), float(cp2['LONGITUD'])\n",
        "    \n",
        "    lo1, la1, lo2, la2 = map(math.radians, [lo1, la1, lo2, la2])\n",
        "    dlo = lo2 - lo1\n",
        "    dla = la2 - la1\n",
        "    a = math.sin(dla/2)**2 + math.cos(la1) * math.cos(la2) * math.sin(dlo/2)**2\n",
        "    c = 2 * math.asin(math.sqrt(a))\n",
        "    r = 6371\n",
        "\n",
        "    return round(c * r, 2)"
      ],
      "execution_count": 60,
      "outputs": []
    },
    {
      "cell_type": "markdown",
      "metadata": {
        "id": "ASgv6hZ7-DMr"
      },
      "source": [
        "####Area de estudios de provincia a provincia"
      ]
    },
    {
      "cell_type": "code",
      "metadata": {
        "id": "0aAvH7Th8P71"
      },
      "source": [
        "def Area_Estudio(DATA_SET, Nom_Provinci, Nom_Distrito):\n",
        "\n",
        "    list_Provincia = DATA_SET['PROVINCIA'].unique() #no repetir\n",
        "\n",
        "    Provincia = dict()\n",
        "\n",
        "    for i, nom1 in enumerate(list_Provincia):\n",
        "        Provincia[nom1] = DATA_SET[DATA_SET['PROVINCIA'] == nom1]\n",
        "\n",
        "    #---#\n",
        "\n",
        "    list_Distrito = Provincia[Nom_Provinci]['DISTRITO'].unique()\n",
        "\n",
        "    Distrito = dict()\n",
        "\n",
        "    for j, nom2 in enumerate(list_Distrito):\n",
        "        Distrito[nom2] = Provincia[Nom_Provinci][Provincia[Nom_Provinci]['DISTRITO'] == nom2]\n",
        "    \n",
        "    CentrosPoblados = Distrito[Nom_Distrito]\n",
        "    #--#\n",
        "    return CentrosPoblados"
      ],
      "execution_count": 61,
      "outputs": []
    },
    {
      "cell_type": "markdown",
      "metadata": {
        "id": "SXdJSVf4-INr"
      },
      "source": [
        "####Area de estudios de Distritos a Distritos"
      ]
    },
    {
      "cell_type": "code",
      "metadata": {
        "id": "jmCuTzIn8TId"
      },
      "source": [
        "def Area_Estudio_Mayor(DATA_SET, Nom_Provinci):\n",
        "\n",
        "    list_Provincia = DATA_SET['PROVINCIA'].unique() #no repetir\n",
        "\n",
        "    Provincia = dict()\n",
        "\n",
        "    for i, nom1 in enumerate(list_Provincia):\n",
        "        Provincia[nom1] = DATA_SET[DATA_SET['PROVINCIA'] == nom1]\n",
        "\n",
        "    #---#\n",
        " \n",
        "    CentrosPoblados = Provincia[Nom_Provinci]\n",
        "    #--#\n",
        "    return CentrosPoblados"
      ],
      "execution_count": 62,
      "outputs": []
    },
    {
      "cell_type": "markdown",
      "metadata": {
        "id": "I-Fa0c7o-NbS"
      },
      "source": [
        "###Ejemplos"
      ]
    },
    {
      "cell_type": "code",
      "metadata": {
        "colab": {
          "base_uri": "https://localhost:8080/",
          "height": 316
        },
        "id": "N_572ZBS8cML",
        "outputId": "806de97f-681b-4b07-b0be-11e57b08de04"
      },
      "source": [
        "Zona = Area_Estudio(DATA_SET,'CHICLAYO', 'OYOTUN')\n",
        "Zona"
      ],
      "execution_count": 63,
      "outputs": [
        {
          "output_type": "execute_result",
          "data": {
            "text/html": [
              "<div>\n",
              "<style scoped>\n",
              "    .dataframe tbody tr th:only-of-type {\n",
              "        vertical-align: middle;\n",
              "    }\n",
              "\n",
              "    .dataframe tbody tr th {\n",
              "        vertical-align: top;\n",
              "    }\n",
              "\n",
              "    .dataframe thead th {\n",
              "        text-align: right;\n",
              "    }\n",
              "</style>\n",
              "<table border=\"1\" class=\"dataframe\">\n",
              "  <thead>\n",
              "    <tr style=\"text-align: right;\">\n",
              "      <th></th>\n",
              "      <th>DEPARTAMENTO</th>\n",
              "      <th>PROVINCIA</th>\n",
              "      <th>DISTRITO</th>\n",
              "      <th>CENTRO POBLADO</th>\n",
              "      <th>LATITUD</th>\n",
              "      <th>LONGITUD</th>\n",
              "      <th>NMI1</th>\n",
              "      <th>NMI2</th>\n",
              "    </tr>\n",
              "  </thead>\n",
              "  <tbody>\n",
              "    <tr>\n",
              "      <th>1623</th>\n",
              "      <td>LAMBAYEQUE</td>\n",
              "      <td>CHICLAYO</td>\n",
              "      <td>OYOTUN</td>\n",
              "      <td>BEBEDEROS</td>\n",
              "      <td>-6.80447</td>\n",
              "      <td>-79.297753</td>\n",
              "      <td>14</td>\n",
              "      <td>42</td>\n",
              "    </tr>\n",
              "    <tr>\n",
              "      <th>1624</th>\n",
              "      <td>LAMBAYEQUE</td>\n",
              "      <td>CHICLAYO</td>\n",
              "      <td>OYOTUN</td>\n",
              "      <td>CANTA GALLO</td>\n",
              "      <td>-6.860437</td>\n",
              "      <td>-79.3785</td>\n",
              "      <td>2</td>\n",
              "      <td>5</td>\n",
              "    </tr>\n",
              "    <tr>\n",
              "      <th>1625</th>\n",
              "      <td>LAMBAYEQUE</td>\n",
              "      <td>CHICLAYO</td>\n",
              "      <td>OYOTUN</td>\n",
              "      <td>CHUMBENIQUE</td>\n",
              "      <td>-6.865822</td>\n",
              "      <td>-79.400267</td>\n",
              "      <td>49</td>\n",
              "      <td>130</td>\n",
              "    </tr>\n",
              "    <tr>\n",
              "      <th>1626</th>\n",
              "      <td>LAMBAYEQUE</td>\n",
              "      <td>CHICLAYO</td>\n",
              "      <td>OYOTUN</td>\n",
              "      <td>EL SEIS</td>\n",
              "      <td>-6.809653</td>\n",
              "      <td>-79.21591</td>\n",
              "      <td>14</td>\n",
              "      <td>31</td>\n",
              "    </tr>\n",
              "    <tr>\n",
              "      <th>1627</th>\n",
              "      <td>LAMBAYEQUE</td>\n",
              "      <td>CHICLAYO</td>\n",
              "      <td>OYOTUN</td>\n",
              "      <td>ESPINAL</td>\n",
              "      <td>-6.819611</td>\n",
              "      <td>-79.202495</td>\n",
              "      <td>85</td>\n",
              "      <td>243</td>\n",
              "    </tr>\n",
              "    <tr>\n",
              "      <th>1628</th>\n",
              "      <td>LAMBAYEQUE</td>\n",
              "      <td>CHICLAYO</td>\n",
              "      <td>OYOTUN</td>\n",
              "      <td>LA COMPUERTA</td>\n",
              "      <td>-6.849306</td>\n",
              "      <td>-79.352616</td>\n",
              "      <td>122</td>\n",
              "      <td>307</td>\n",
              "    </tr>\n",
              "    <tr>\n",
              "      <th>1629</th>\n",
              "      <td>LAMBAYEQUE</td>\n",
              "      <td>CHICLAYO</td>\n",
              "      <td>OYOTUN</td>\n",
              "      <td>MACUACO</td>\n",
              "      <td>-6.802402</td>\n",
              "      <td>-79.23779</td>\n",
              "      <td>42</td>\n",
              "      <td>132</td>\n",
              "    </tr>\n",
              "    <tr>\n",
              "      <th>1630</th>\n",
              "      <td>LAMBAYEQUE</td>\n",
              "      <td>CHICLAYO</td>\n",
              "      <td>OYOTUN</td>\n",
              "      <td>MOTETE</td>\n",
              "      <td>-6.876848</td>\n",
              "      <td>-79.421388</td>\n",
              "      <td>4</td>\n",
              "      <td>11</td>\n",
              "    </tr>\n",
              "    <tr>\n",
              "      <th>1631</th>\n",
              "      <td>LAMBAYEQUE</td>\n",
              "      <td>CHICLAYO</td>\n",
              "      <td>OYOTUN</td>\n",
              "      <td>OYOTUN</td>\n",
              "      <td>-6.85434</td>\n",
              "      <td>-79.306302</td>\n",
              "      <td>1696</td>\n",
              "      <td>5735</td>\n",
              "    </tr>\n",
              "  </tbody>\n",
              "</table>\n",
              "</div>"
            ],
            "text/plain": [
              "     DEPARTAMENTO PROVINCIA DISTRITO  ...    LONGITUD  NMI1  NMI2\n",
              "1623   LAMBAYEQUE  CHICLAYO   OYOTUN  ...  -79.297753    14    42\n",
              "1624   LAMBAYEQUE  CHICLAYO   OYOTUN  ...    -79.3785     2     5\n",
              "1625   LAMBAYEQUE  CHICLAYO   OYOTUN  ...  -79.400267    49   130\n",
              "1626   LAMBAYEQUE  CHICLAYO   OYOTUN  ...   -79.21591    14    31\n",
              "1627   LAMBAYEQUE  CHICLAYO   OYOTUN  ...  -79.202495    85   243\n",
              "1628   LAMBAYEQUE  CHICLAYO   OYOTUN  ...  -79.352616   122   307\n",
              "1629   LAMBAYEQUE  CHICLAYO   OYOTUN  ...   -79.23779    42   132\n",
              "1630   LAMBAYEQUE  CHICLAYO   OYOTUN  ...  -79.421388     4    11\n",
              "1631   LAMBAYEQUE  CHICLAYO   OYOTUN  ...  -79.306302  1696  5735\n",
              "\n",
              "[9 rows x 8 columns]"
            ]
          },
          "metadata": {
            "tags": []
          },
          "execution_count": 63
        }
      ]
    },
    {
      "cell_type": "code",
      "metadata": {
        "colab": {
          "base_uri": "https://localhost:8080/",
          "height": 405
        },
        "id": "8Kp59rP98c_7",
        "outputId": "8ad1dc2b-c622-4008-e457-d309b8e61b89"
      },
      "source": [
        "Zona2 = Area_Estudio_Mayor(DATA_SET,'UTCUBAMBA')\n",
        "Zona2"
      ],
      "execution_count": 83,
      "outputs": [
        {
          "output_type": "execute_result",
          "data": {
            "text/html": [
              "<div>\n",
              "<style scoped>\n",
              "    .dataframe tbody tr th:only-of-type {\n",
              "        vertical-align: middle;\n",
              "    }\n",
              "\n",
              "    .dataframe tbody tr th {\n",
              "        vertical-align: top;\n",
              "    }\n",
              "\n",
              "    .dataframe thead th {\n",
              "        text-align: right;\n",
              "    }\n",
              "</style>\n",
              "<table border=\"1\" class=\"dataframe\">\n",
              "  <thead>\n",
              "    <tr style=\"text-align: right;\">\n",
              "      <th></th>\n",
              "      <th>DEPARTAMENTO</th>\n",
              "      <th>PROVINCIA</th>\n",
              "      <th>DISTRITO</th>\n",
              "      <th>CENTRO POBLADO</th>\n",
              "      <th>LATITUD</th>\n",
              "      <th>LONGITUD</th>\n",
              "      <th>NMI1</th>\n",
              "      <th>NMI2</th>\n",
              "    </tr>\n",
              "  </thead>\n",
              "  <tbody>\n",
              "    <tr>\n",
              "      <th>13</th>\n",
              "      <td>AMAZONAS</td>\n",
              "      <td>UTCUBAMBA</td>\n",
              "      <td>CAJARURO</td>\n",
              "      <td>NARANJITOS</td>\n",
              "      <td>-5.814901</td>\n",
              "      <td>-78.277449</td>\n",
              "      <td>177</td>\n",
              "      <td>577</td>\n",
              "    </tr>\n",
              "    <tr>\n",
              "      <th>14</th>\n",
              "      <td>AMAZONAS</td>\n",
              "      <td>UTCUBAMBA</td>\n",
              "      <td>CUMBA</td>\n",
              "      <td>AGUA AZUL</td>\n",
              "      <td>-5.969275</td>\n",
              "      <td>-78.619398</td>\n",
              "      <td>1</td>\n",
              "      <td>1</td>\n",
              "    </tr>\n",
              "    <tr>\n",
              "      <th>15</th>\n",
              "      <td>AMAZONAS</td>\n",
              "      <td>UTCUBAMBA</td>\n",
              "      <td>CUMBA</td>\n",
              "      <td>CHALA</td>\n",
              "      <td>-5.973545</td>\n",
              "      <td>-78.633153</td>\n",
              "      <td>1</td>\n",
              "      <td>6</td>\n",
              "    </tr>\n",
              "    <tr>\n",
              "      <th>16</th>\n",
              "      <td>AMAZONAS</td>\n",
              "      <td>UTCUBAMBA</td>\n",
              "      <td>CUMBA</td>\n",
              "      <td>PUERTO CHOROS</td>\n",
              "      <td>-5.894283</td>\n",
              "      <td>-78.687223</td>\n",
              "      <td>1</td>\n",
              "      <td>4</td>\n",
              "    </tr>\n",
              "    <tr>\n",
              "      <th>17</th>\n",
              "      <td>AMAZONAS</td>\n",
              "      <td>UTCUBAMBA</td>\n",
              "      <td>CUMBA</td>\n",
              "      <td>TAGTAGO</td>\n",
              "      <td>-5.981024</td>\n",
              "      <td>-78.630186</td>\n",
              "      <td>202</td>\n",
              "      <td>562</td>\n",
              "    </tr>\n",
              "    <tr>\n",
              "      <th>18</th>\n",
              "      <td>AMAZONAS</td>\n",
              "      <td>UTCUBAMBA</td>\n",
              "      <td>EL MILAGRO</td>\n",
              "      <td>PAPAYA BAJA (PARCIALIDAD)</td>\n",
              "      <td>-5.560332</td>\n",
              "      <td>-78.570703</td>\n",
              "      <td>15</td>\n",
              "      <td>33</td>\n",
              "    </tr>\n",
              "    <tr>\n",
              "      <th>19</th>\n",
              "      <td>AMAZONAS</td>\n",
              "      <td>UTCUBAMBA</td>\n",
              "      <td>JAMALCA</td>\n",
              "      <td>PUERTO NARANJITOS</td>\n",
              "      <td>-5.82154</td>\n",
              "      <td>-78.275662</td>\n",
              "      <td>102</td>\n",
              "      <td>360</td>\n",
              "    </tr>\n",
              "    <tr>\n",
              "      <th>20</th>\n",
              "      <td>AMAZONAS</td>\n",
              "      <td>UTCUBAMBA</td>\n",
              "      <td>LONYA GRANDE</td>\n",
              "      <td>ARCURCO</td>\n",
              "      <td>-6.101007</td>\n",
              "      <td>-78.417463</td>\n",
              "      <td>0</td>\n",
              "      <td>0</td>\n",
              "    </tr>\n",
              "    <tr>\n",
              "      <th>21</th>\n",
              "      <td>AMAZONAS</td>\n",
              "      <td>UTCUBAMBA</td>\n",
              "      <td>LONYA GRANDE</td>\n",
              "      <td>BOLIVIA</td>\n",
              "      <td>-6.101328</td>\n",
              "      <td>-78.427833</td>\n",
              "      <td>1</td>\n",
              "      <td>3</td>\n",
              "    </tr>\n",
              "    <tr>\n",
              "      <th>22</th>\n",
              "      <td>AMAZONAS</td>\n",
              "      <td>UTCUBAMBA</td>\n",
              "      <td>LONYA GRANDE</td>\n",
              "      <td>LONYA GRANDE</td>\n",
              "      <td>-6.096373</td>\n",
              "      <td>-78.422516</td>\n",
              "      <td>698</td>\n",
              "      <td>2896</td>\n",
              "    </tr>\n",
              "    <tr>\n",
              "      <th>23</th>\n",
              "      <td>AMAZONAS</td>\n",
              "      <td>UTCUBAMBA</td>\n",
              "      <td>LONYA GRANDE</td>\n",
              "      <td>MANCARRON</td>\n",
              "      <td>-6.096585</td>\n",
              "      <td>-78.428543</td>\n",
              "      <td>2</td>\n",
              "      <td>4</td>\n",
              "    </tr>\n",
              "    <tr>\n",
              "      <th>24</th>\n",
              "      <td>AMAZONAS</td>\n",
              "      <td>UTCUBAMBA</td>\n",
              "      <td>LONYA GRANDE</td>\n",
              "      <td>MATULI</td>\n",
              "      <td>-6.106335</td>\n",
              "      <td>-78.416907</td>\n",
              "      <td>1</td>\n",
              "      <td>1</td>\n",
              "    </tr>\n",
              "  </tbody>\n",
              "</table>\n",
              "</div>"
            ],
            "text/plain": [
              "   DEPARTAMENTO  PROVINCIA      DISTRITO  ...    LONGITUD NMI1  NMI2\n",
              "13     AMAZONAS  UTCUBAMBA      CAJARURO  ...  -78.277449  177   577\n",
              "14     AMAZONAS  UTCUBAMBA         CUMBA  ...  -78.619398    1     1\n",
              "15     AMAZONAS  UTCUBAMBA         CUMBA  ...  -78.633153    1     6\n",
              "16     AMAZONAS  UTCUBAMBA         CUMBA  ...  -78.687223    1     4\n",
              "17     AMAZONAS  UTCUBAMBA         CUMBA  ...  -78.630186  202   562\n",
              "18     AMAZONAS  UTCUBAMBA    EL MILAGRO  ...  -78.570703   15    33\n",
              "19     AMAZONAS  UTCUBAMBA       JAMALCA  ...  -78.275662  102   360\n",
              "20     AMAZONAS  UTCUBAMBA  LONYA GRANDE  ...  -78.417463    0     0\n",
              "21     AMAZONAS  UTCUBAMBA  LONYA GRANDE  ...  -78.427833    1     3\n",
              "22     AMAZONAS  UTCUBAMBA  LONYA GRANDE  ...  -78.422516  698  2896\n",
              "23     AMAZONAS  UTCUBAMBA  LONYA GRANDE  ...  -78.428543    2     4\n",
              "24     AMAZONAS  UTCUBAMBA  LONYA GRANDE  ...  -78.416907    1     1\n",
              "\n",
              "[12 rows x 8 columns]"
            ]
          },
          "metadata": {
            "tags": []
          },
          "execution_count": 83
        }
      ]
    },
    {
      "cell_type": "code",
      "metadata": {
        "colab": {
          "base_uri": "https://localhost:8080/",
          "height": 196
        },
        "id": "Piokd0ab8fLb",
        "outputId": "6f16dbf5-332d-404d-e0cd-35f31ae21786"
      },
      "source": [
        "ZonaV3 = Area_Estudio(DATA_SET,'UTCUBAMBA', 'LONYA GRANDE')\n",
        "ZonaV3"
      ],
      "execution_count": 65,
      "outputs": [
        {
          "output_type": "execute_result",
          "data": {
            "text/html": [
              "<div>\n",
              "<style scoped>\n",
              "    .dataframe tbody tr th:only-of-type {\n",
              "        vertical-align: middle;\n",
              "    }\n",
              "\n",
              "    .dataframe tbody tr th {\n",
              "        vertical-align: top;\n",
              "    }\n",
              "\n",
              "    .dataframe thead th {\n",
              "        text-align: right;\n",
              "    }\n",
              "</style>\n",
              "<table border=\"1\" class=\"dataframe\">\n",
              "  <thead>\n",
              "    <tr style=\"text-align: right;\">\n",
              "      <th></th>\n",
              "      <th>DEPARTAMENTO</th>\n",
              "      <th>PROVINCIA</th>\n",
              "      <th>DISTRITO</th>\n",
              "      <th>CENTRO POBLADO</th>\n",
              "      <th>LATITUD</th>\n",
              "      <th>LONGITUD</th>\n",
              "      <th>NMI1</th>\n",
              "      <th>NMI2</th>\n",
              "    </tr>\n",
              "  </thead>\n",
              "  <tbody>\n",
              "    <tr>\n",
              "      <th>20</th>\n",
              "      <td>AMAZONAS</td>\n",
              "      <td>UTCUBAMBA</td>\n",
              "      <td>LONYA GRANDE</td>\n",
              "      <td>ARCURCO</td>\n",
              "      <td>-6.101007</td>\n",
              "      <td>-78.417463</td>\n",
              "      <td>0</td>\n",
              "      <td>0</td>\n",
              "    </tr>\n",
              "    <tr>\n",
              "      <th>21</th>\n",
              "      <td>AMAZONAS</td>\n",
              "      <td>UTCUBAMBA</td>\n",
              "      <td>LONYA GRANDE</td>\n",
              "      <td>BOLIVIA</td>\n",
              "      <td>-6.101328</td>\n",
              "      <td>-78.427833</td>\n",
              "      <td>1</td>\n",
              "      <td>3</td>\n",
              "    </tr>\n",
              "    <tr>\n",
              "      <th>22</th>\n",
              "      <td>AMAZONAS</td>\n",
              "      <td>UTCUBAMBA</td>\n",
              "      <td>LONYA GRANDE</td>\n",
              "      <td>LONYA GRANDE</td>\n",
              "      <td>-6.096373</td>\n",
              "      <td>-78.422516</td>\n",
              "      <td>698</td>\n",
              "      <td>2896</td>\n",
              "    </tr>\n",
              "    <tr>\n",
              "      <th>23</th>\n",
              "      <td>AMAZONAS</td>\n",
              "      <td>UTCUBAMBA</td>\n",
              "      <td>LONYA GRANDE</td>\n",
              "      <td>MANCARRON</td>\n",
              "      <td>-6.096585</td>\n",
              "      <td>-78.428543</td>\n",
              "      <td>2</td>\n",
              "      <td>4</td>\n",
              "    </tr>\n",
              "    <tr>\n",
              "      <th>24</th>\n",
              "      <td>AMAZONAS</td>\n",
              "      <td>UTCUBAMBA</td>\n",
              "      <td>LONYA GRANDE</td>\n",
              "      <td>MATULI</td>\n",
              "      <td>-6.106335</td>\n",
              "      <td>-78.416907</td>\n",
              "      <td>1</td>\n",
              "      <td>1</td>\n",
              "    </tr>\n",
              "  </tbody>\n",
              "</table>\n",
              "</div>"
            ],
            "text/plain": [
              "   DEPARTAMENTO  PROVINCIA      DISTRITO  ...    LONGITUD NMI1  NMI2\n",
              "20     AMAZONAS  UTCUBAMBA  LONYA GRANDE  ...  -78.417463    0     0\n",
              "21     AMAZONAS  UTCUBAMBA  LONYA GRANDE  ...  -78.427833    1     3\n",
              "22     AMAZONAS  UTCUBAMBA  LONYA GRANDE  ...  -78.422516  698  2896\n",
              "23     AMAZONAS  UTCUBAMBA  LONYA GRANDE  ...  -78.428543    2     4\n",
              "24     AMAZONAS  UTCUBAMBA  LONYA GRANDE  ...  -78.416907    1     1\n",
              "\n",
              "[5 rows x 8 columns]"
            ]
          },
          "metadata": {
            "tags": []
          },
          "execution_count": 65
        }
      ]
    },
    {
      "cell_type": "markdown",
      "metadata": {
        "id": "4wDyGN3a-T1C"
      },
      "source": [
        "####Generacion del Grafo"
      ]
    },
    {
      "cell_type": "code",
      "metadata": {
        "id": "WaN5crSE8nsF"
      },
      "source": [
        "def Gra(cp1, cp2, x):\n",
        "  G = nx.Graph()\n",
        "  indice = cp1.index[0] \n",
        "  for i, cp1 in x.iterrows():\n",
        "    G.add_node(i-indice)\n",
        "\n",
        "  for i, cp1 in x.iterrows():\n",
        "    for j, cp2 in x.iterrows():\n",
        "        if cp1['CENTRO POBLADO'] != cp2['CENTRO POBLADO']:     \n",
        "            G.add_edge(i - indice, j - indice, weight =round(calcularDistancia(cp1, cp2), 2))\n",
        "  \n",
        "  return G"
      ],
      "execution_count": 66,
      "outputs": []
    },
    {
      "cell_type": "markdown",
      "metadata": {
        "id": "cn0NW90y-WMc"
      },
      "source": [
        "### CREACION DEL GRAFO"
      ]
    },
    {
      "cell_type": "code",
      "metadata": {
        "id": "GrwQmcvm8rA8"
      },
      "source": [
        "G = Gra(ZonaV3, ZonaV3, ZonaV3)"
      ],
      "execution_count": 104,
      "outputs": []
    },
    {
      "cell_type": "code",
      "metadata": {
        "id": "uP-JiFlg-fIj"
      },
      "source": [
        "G_2 = Gra(Zona2, Zona2, Zona2)"
      ],
      "execution_count": 105,
      "outputs": []
    },
    {
      "cell_type": "markdown",
      "metadata": {
        "id": "YImhudW8-jni"
      },
      "source": [
        "#####Formula para el camino mas pequeño"
      ]
    },
    {
      "cell_type": "code",
      "metadata": {
        "id": "lj60xE2R9QVA"
      },
      "source": [
        "def min_path(G, c):\n",
        "  arr = []\n",
        "  for h in G.neighbors(c):\n",
        "    arr.append(G.edges[c, h]['weight'])\n",
        "  arr.sort()\n",
        "  return min(arr)  "
      ],
      "execution_count": 70,
      "outputs": []
    },
    {
      "cell_type": "markdown",
      "metadata": {
        "id": "fdos7Ucs-prK"
      },
      "source": [
        "### CODIGO DE FUERZA BRUTA MODIFICADA...."
      ]
    },
    {
      "cell_type": "code",
      "metadata": {
        "id": "V9NSw-ml8zqT"
      },
      "source": [
        "def FuerzaBrutaModif(G, s): \n",
        "  for u in G:\n",
        "    G.nodes[u]['visited'] = False             \n",
        "    G.nodes[u]['path']    = -1                \n",
        "\n",
        "  queue = [s]\n",
        "  L = nx.Graph(G)\n",
        "  G.nodes[s]['visited'] = True \n",
        "  #print(G.nodes.data())\n",
        "  while len(queue) > 0 :\n",
        "    \n",
        "    q = queue[0]\n",
        "    for i in G.neighbors(q):\n",
        "      if not G.nodes[i]['visited'] and L.edges[q, i]['weight'] == min_path(L, q):\n",
        "          G.nodes[i]['visited']  = True\n",
        "          G.nodes[i]['path'] = q\n",
        "          queue.append(i) \n",
        "          #print(\"TIENE QUE ENTRAR\", i, queue)\n",
        "    L.remove_node(queue[0])\n",
        "    del queue[0]\n",
        "    #print(queue)\n",
        "    #print('\\n cambio de queue', queue)\n",
        "\n",
        "  path = []\n",
        "  for n in range(len(G.nodes)):\n",
        "    path.append(G.nodes[n]['path'])\n",
        "\n",
        "\n",
        "  return path"
      ],
      "execution_count": 96,
      "outputs": []
    },
    {
      "cell_type": "markdown",
      "metadata": {
        "id": "ea2chiql-wqZ"
      },
      "source": [
        "#### GENERADON DE CAMINOS"
      ]
    },
    {
      "cell_type": "code",
      "metadata": {
        "id": "9Jc5mzN187KS"
      },
      "source": [
        "path = FuerzaBrutaModif(G, 0)\n",
        "path_2 = FuerzaBrutaModif(G_2, 0)"
      ],
      "execution_count": 115,
      "outputs": []
    },
    {
      "cell_type": "markdown",
      "metadata": {
        "id": "LVC4mTF2_Bll"
      },
      "source": [
        "#### REAL MAPA"
      ]
    },
    {
      "cell_type": "code",
      "metadata": {
        "colab": {
          "base_uri": "https://localhost:8080/",
          "height": 1000
        },
        "id": "KUtQKO1L884j",
        "outputId": "336891bc-5732-415e-c55f-bac8b530b7e2"
      },
      "source": [
        "nxBgv(G_2, path = path_2 ,weighted=True, params={'size': '15'})"
      ],
      "execution_count": 116,
      "outputs": [
        {
          "output_type": "execute_result",
          "data": {
            "text/plain": [
              "<graphviz.dot.Graph at 0x7f28eb6dbad0>"
            ],
            "image/svg+xml": "<?xml version=\"1.0\" encoding=\"UTF-8\" standalone=\"no\"?>\n<!DOCTYPE svg PUBLIC \"-//W3C//DTD SVG 1.1//EN\"\n \"http://www.w3.org/Graphics/SVG/1.1/DTD/svg11.dtd\">\n<!-- Generated by graphviz version 2.40.1 (20161225.0304)\n -->\n<!-- Title: G Pages: 1 -->\n<svg width=\"1080pt\" height=\"736pt\"\n viewBox=\"0.00 0.00 1080.00 735.93\" xmlns=\"http://www.w3.org/2000/svg\" xmlns:xlink=\"http://www.w3.org/1999/xlink\">\n<g id=\"graph0\" class=\"graph\" transform=\"scale(.7352 .7352) rotate(0) translate(4 997)\">\n<title>G</title>\n<polygon fill=\"#ffffff\" stroke=\"transparent\" points=\"-4,4 -4,-997 1465,-997 1465,4 -4,4\"/>\n<!-- 0 -->\n<g id=\"node1\" class=\"node\">\n<title>0</title>\n<ellipse fill=\"none\" stroke=\"#000000\" cx=\"684\" cy=\"-975\" rx=\"27\" ry=\"18\"/>\n<text text-anchor=\"middle\" x=\"684\" y=\"-971.3\" font-family=\"Times,serif\" font-size=\"14.00\" fill=\"#000000\">0</text>\n</g>\n<!-- 1 -->\n<g id=\"node2\" class=\"node\">\n<title>1</title>\n<ellipse fill=\"none\" stroke=\"#000000\" cx=\"684\" cy=\"-888\" rx=\"27\" ry=\"18\"/>\n<text text-anchor=\"middle\" x=\"684\" y=\"-884.3\" font-family=\"Times,serif\" font-size=\"14.00\" fill=\"#000000\">1</text>\n</g>\n<!-- 0&#45;&#45;1 -->\n<g id=\"edge1\" class=\"edge\">\n<title>0&#45;&#45;1</title>\n<path fill=\"none\" stroke=\"#000000\" d=\"M684,-956.9735C684,-942.0422 684,-920.9283 684,-906.0034\"/>\n<text text-anchor=\"middle\" x=\"701\" y=\"-927.8\" font-family=\"Times,serif\" font-size=\"14.00\" fill=\"#000000\">41.54</text>\n</g>\n<!-- 2 -->\n<g id=\"node3\" class=\"node\">\n<title>2</title>\n<ellipse fill=\"none\" stroke=\"#000000\" cx=\"997\" cy=\"-801\" rx=\"27\" ry=\"18\"/>\n<text text-anchor=\"middle\" x=\"997\" y=\"-797.3\" font-family=\"Times,serif\" font-size=\"14.00\" fill=\"#000000\">2</text>\n</g>\n<!-- 0&#45;&#45;2 -->\n<g id=\"edge2\" class=\"edge\">\n<title>0&#45;&#45;2</title>\n<path fill=\"none\" stroke=\"#000000\" d=\"M711.1537,-972.9681C761.3484,-968.8007 866.332,-958.0389 897,-939 944.5094,-909.5058 976.3741,-848.3435 989.7991,-818.3491\"/>\n<text text-anchor=\"middle\" x=\"979\" y=\"-884.3\" font-family=\"Times,serif\" font-size=\"14.00\" fill=\"#000000\">43.12</text>\n</g>\n<!-- 3 -->\n<g id=\"node4\" class=\"node\">\n<title>3</title>\n<ellipse fill=\"none\" stroke=\"#000000\" cx=\"554\" cy=\"-714\" rx=\"27\" ry=\"18\"/>\n<text text-anchor=\"middle\" x=\"554\" y=\"-710.3\" font-family=\"Times,serif\" font-size=\"14.00\" fill=\"#000000\">3</text>\n</g>\n<!-- 0&#45;&#45;3 -->\n<g id=\"edge3\" class=\"edge\">\n<title>0&#45;&#45;3</title>\n<path fill=\"none\" stroke=\"#000000\" d=\"M665.0475,-962.1326C637.468,-942.2004 587.1537,-901.0044 565,-852 547.0799,-812.3603 549.0011,-759.7884 551.6649,-732.3868\"/>\n<text text-anchor=\"middle\" x=\"582\" y=\"-840.8\" font-family=\"Times,serif\" font-size=\"14.00\" fill=\"#000000\">46.18</text>\n</g>\n<!-- 4 -->\n<g id=\"node5\" class=\"node\">\n<title>4</title>\n<ellipse fill=\"none\" stroke=\"#000000\" cx=\"614\" cy=\"-627\" rx=\"27\" ry=\"18\"/>\n<text text-anchor=\"middle\" x=\"614\" y=\"-623.3\" font-family=\"Times,serif\" font-size=\"14.00\" fill=\"#000000\">4</text>\n</g>\n<!-- 0&#45;&#45;4 -->\n<g id=\"edge4\" class=\"edge\">\n<title>0&#45;&#45;4</title>\n<path fill=\"none\" stroke=\"#000000\" d=\"M705.371,-963.8935C742.5623,-942.8728 813.7954,-894.2147 798,-837 772.3298,-744.0166 675.3843,-668.698 633.4859,-639.7675\"/>\n<text text-anchor=\"middle\" x=\"809\" y=\"-797.3\" font-family=\"Times,serif\" font-size=\"14.00\" fill=\"#000000\">43.17</text>\n</g>\n<!-- 5 -->\n<g id=\"node6\" class=\"node\">\n<title>5</title>\n<ellipse fill=\"none\" stroke=\"#000000\" cx=\"815\" cy=\"-540\" rx=\"27\" ry=\"18\"/>\n<text text-anchor=\"middle\" x=\"815\" y=\"-536.3\" font-family=\"Times,serif\" font-size=\"14.00\" fill=\"#000000\">5</text>\n</g>\n<!-- 0&#45;&#45;5 -->\n<g id=\"edge5\" class=\"edge\">\n<title>0&#45;&#45;5</title>\n<path fill=\"none\" stroke=\"#000000\" d=\"M710.0158,-969.3746C763.9571,-956.9586 883,-925.3289 883,-888 883,-888 883,-888 883,-757.5 883,-673.9453 864.5769,-653.7588 834,-576 831.4655,-569.5547 828.0871,-562.7684 824.8824,-556.8468\"/>\n<text text-anchor=\"middle\" x=\"900\" y=\"-753.8\" font-family=\"Times,serif\" font-size=\"14.00\" fill=\"#000000\">43.06</text>\n</g>\n<!-- 6 -->\n<g id=\"node7\" class=\"node\">\n<title>6</title>\n<ellipse fill=\"none\" stroke=\"#000000\" cx=\"526\" cy=\"-453\" rx=\"27\" ry=\"18\"/>\n<text text-anchor=\"middle\" x=\"526\" y=\"-449.3\" font-family=\"Times,serif\" font-size=\"14.00\" fill=\"#000000\">6</text>\n</g>\n<!-- 0&#45;&#45;6 -->\n<g id=\"edge6\" class=\"edge\">\n<title>0&#45;&#45;6</title>\n<path fill=\"none\" stroke=\"#ff4500\" d=\"M657.1171,-972.4986C562.2773,-963.3187 249,-929.8296 249,-888 249,-888 249,-888 249,-670.5 249,-603.337 231.5436,-571.4427 277,-522 307.2845,-489.0597 441.5864,-465.556 499.3929,-456.7858\"/>\n<text text-anchor=\"middle\" x=\"262.5\" y=\"-710.3\" font-family=\"Times,serif\" font-size=\"14.00\" fill=\"#000000\">0.76</text>\n</g>\n<!-- 7 -->\n<g id=\"node8\" class=\"node\">\n<title>7</title>\n<ellipse fill=\"none\" stroke=\"#000000\" cx=\"881\" cy=\"-366\" rx=\"27\" ry=\"18\"/>\n<text text-anchor=\"middle\" x=\"881\" y=\"-362.3\" font-family=\"Times,serif\" font-size=\"14.00\" fill=\"#000000\">7</text>\n</g>\n<!-- 0&#45;&#45;7 -->\n<g id=\"edge7\" class=\"edge\">\n<title>0&#45;&#45;7</title>\n<path fill=\"none\" stroke=\"#000000\" d=\"M711.3078,-974.072C830.7159,-969.6595 1301,-948.4443 1301,-888 1301,-888 1301,-888 1301,-757.5 1301,-590.4603 1238.3952,-539.4 1108,-435 1047.7112,-386.7303 953.9638,-372.1537 908.1108,-367.8089\"/>\n<text text-anchor=\"middle\" x=\"1311\" y=\"-666.8\" font-family=\"Times,serif\" font-size=\"14.00\" fill=\"#000000\">35.38</text>\n</g>\n<!-- 8 -->\n<g id=\"node9\" class=\"node\">\n<title>8</title>\n<ellipse fill=\"none\" stroke=\"#000000\" cx=\"936\" cy=\"-279\" rx=\"27\" ry=\"18\"/>\n<text text-anchor=\"middle\" x=\"936\" y=\"-275.3\" font-family=\"Times,serif\" font-size=\"14.00\" fill=\"#000000\">8</text>\n</g>\n<!-- 0&#45;&#45;8 -->\n<g id=\"edge8\" class=\"edge\">\n<title>0&#45;&#45;8</title>\n<path fill=\"none\" stroke=\"#000000\" d=\"M711.2448,-974.5087C839.7403,-971.8393 1379,-956.5528 1379,-888 1379,-888 1379,-888 1379,-670.5 1379,-560.7877 1377.5837,-517.2703 1305,-435 1210.6703,-328.0816 1030.794,-292.3646 962.8684,-282.377\"/>\n<text text-anchor=\"middle\" x=\"1395\" y=\"-623.3\" font-family=\"Times,serif\" font-size=\"14.00\" fill=\"#000000\">35.93</text>\n</g>\n<!-- 9 -->\n<g id=\"node10\" class=\"node\">\n<title>9</title>\n<ellipse fill=\"none\" stroke=\"#000000\" cx=\"621\" cy=\"-192\" rx=\"27\" ry=\"18\"/>\n<text text-anchor=\"middle\" x=\"621\" y=\"-188.3\" font-family=\"Times,serif\" font-size=\"14.00\" fill=\"#000000\">9</text>\n</g>\n<!-- 0&#45;&#45;9 -->\n<g id=\"edge9\" class=\"edge\">\n<title>0&#45;&#45;9</title>\n<path fill=\"none\" stroke=\"#000000\" d=\"M656.9734,-973.5765C547.0036,-967.4317 139,-941.0581 139,-888 139,-888 139,-888 139,-496.5 139,-411.25 334.9895,-262.3792 413,-228 445.1105,-213.8489 545.5721,-200.7245 594.1569,-195.0094\"/>\n<text text-anchor=\"middle\" x=\"156\" y=\"-579.8\" font-family=\"Times,serif\" font-size=\"14.00\" fill=\"#000000\">35.17</text>\n</g>\n<!-- 10 -->\n<g id=\"node11\" class=\"node\">\n<title>10</title>\n<ellipse fill=\"none\" stroke=\"#000000\" cx=\"495\" cy=\"-105\" rx=\"27\" ry=\"18\"/>\n<text text-anchor=\"middle\" x=\"495\" y=\"-101.3\" font-family=\"Times,serif\" font-size=\"14.00\" fill=\"#000000\">10</text>\n</g>\n<!-- 0&#45;&#45;10 -->\n<g id=\"edge10\" class=\"edge\">\n<title>0&#45;&#45;10</title>\n<path fill=\"none\" stroke=\"#000000\" d=\"M656.9934,-974.2093C535.5597,-970.3037 46,-950.6717 46,-888 46,-888 46,-888 46,-583.5 46,-478.2958 93.2391,-300.2636 123,-261 210.2515,-145.8891 398.3754,-115.0009 468.1987,-107.3428\"/>\n<text text-anchor=\"middle\" x=\"63.5\" y=\"-536.3\" font-family=\"Times,serif\" font-size=\"14.00\" fill=\"#000000\">35.5</text>\n</g>\n<!-- 11 -->\n<g id=\"node12\" class=\"node\">\n<title>11</title>\n<ellipse fill=\"none\" stroke=\"#000000\" cx=\"919\" cy=\"-18\" rx=\"27\" ry=\"18\"/>\n<text text-anchor=\"middle\" x=\"919\" y=\"-14.3\" font-family=\"Times,serif\" font-size=\"14.00\" fill=\"#000000\">11</text>\n</g>\n<!-- 0&#45;&#45;11 -->\n<g id=\"edge11\" class=\"edge\">\n<title>0&#45;&#45;11</title>\n<path fill=\"none\" stroke=\"#000000\" d=\"M656.7355,-974.6393C557.3259,-973.1158 214.6324,-965.9813 109,-939 57.1788,-925.7635 0,-941.485 0,-888 0,-888 0,-888 0,-105 0,-25.6919 92.8213,-67.3369 171,-54 313.7381,-29.6495 774.3922,-20.4188 891.6464,-18.4318\"/>\n<text text-anchor=\"middle\" x=\"17\" y=\"-492.8\" font-family=\"Times,serif\" font-size=\"14.00\" fill=\"#000000\">35.89</text>\n</g>\n<!-- 1&#45;&#45;2 -->\n<g id=\"edge12\" class=\"edge\">\n<title>1&#45;&#45;2</title>\n<path fill=\"none\" stroke=\"#ff4500\" d=\"M704.3891,-876.0234C716.0532,-869.1079 730.9219,-860.184 744,-852 754.3454,-845.5261 755.6068,-841.3742 767,-837 803.7881,-822.8757 917.9814,-809.3811 970.3129,-803.7521\"/>\n<text text-anchor=\"middle\" x=\"780.5\" y=\"-840.8\" font-family=\"Times,serif\" font-size=\"14.00\" fill=\"#000000\">1.59</text>\n</g>\n<!-- 1&#45;&#45;3 -->\n<g id=\"edge13\" class=\"edge\">\n<title>1&#45;&#45;3</title>\n<path fill=\"none\" stroke=\"#000000\" d=\"M661.3653,-878.1366C638.9302,-867.1131 605.4618,-847.0549 588,-819 570.7874,-791.3454 561.442,-754.1168 557.1056,-732.2247\"/>\n<text text-anchor=\"middle\" x=\"605\" y=\"-797.3\" font-family=\"Times,serif\" font-size=\"14.00\" fill=\"#000000\">11.22</text>\n</g>\n<!-- 1&#45;&#45;4 -->\n<g id=\"edge14\" class=\"edge\">\n<title>1&#45;&#45;4</title>\n<path fill=\"none\" stroke=\"#000000\" d=\"M678.057,-870.1915C670.21,-846.373 656.1967,-802.76 646,-765 639.8928,-742.3843 625.155,-677.0103 618.0132,-645.0377\"/>\n<text text-anchor=\"middle\" x=\"659.5\" y=\"-753.8\" font-family=\"Times,serif\" font-size=\"14.00\" fill=\"#000000\">1.77</text>\n</g>\n<!-- 1&#45;&#45;5 -->\n<g id=\"edge15\" class=\"edge\">\n<title>1&#45;&#45;5</title>\n<path fill=\"none\" stroke=\"#000000\" d=\"M699.042,-872.6641C723.9902,-846.2901 773.6827,-789.6016 799,-732 825.0431,-672.7472 820.8575,-593.3739 817.2615,-558.1491\"/>\n<text text-anchor=\"middle\" x=\"828\" y=\"-710.3\" font-family=\"Times,serif\" font-size=\"14.00\" fill=\"#000000\">45.79</text>\n</g>\n<!-- 1&#45;&#45;6 -->\n<g id=\"edge16\" class=\"edge\">\n<title>1&#45;&#45;6</title>\n<path fill=\"none\" stroke=\"#000000\" d=\"M659.1757,-880.5541C641.4417,-874.5283 617.5389,-864.9195 599,-852 524.5169,-800.0939 512.1983,-766.5099 492,-678 486.0269,-651.8257 454.8072,-860.1756 500,-522 501.986,-507.1391 501.8967,-503.0977 507,-489 509.3574,-482.4878 512.6943,-475.6859 515.9152,-469.7704\"/>\n<text text-anchor=\"middle\" x=\"509\" y=\"-666.8\" font-family=\"Times,serif\" font-size=\"14.00\" fill=\"#000000\">41.42</text>\n</g>\n<!-- 1&#45;&#45;7 -->\n<g id=\"edge17\" class=\"edge\">\n<title>1&#45;&#45;7</title>\n<path fill=\"none\" stroke=\"#000000\" d=\"M708.3685,-879.9158C749.7261,-866.243 830.5038,-839.7606 844,-837 986.396,-807.8739 1082.3115,-885.8896 1163,-765 1204.9793,-702.1055 1140.3394,-480.5756 1080,-435 1056.0803,-416.933 1043.4834,-426.3415 1015,-417 975.5006,-404.0456 930.5116,-386.2895 904.0042,-375.5092\"/>\n<text text-anchor=\"middle\" x=\"1188\" y=\"-623.3\" font-family=\"Times,serif\" font-size=\"14.00\" fill=\"#000000\">26.71</text>\n</g>\n<!-- 1&#45;&#45;8 -->\n<g id=\"edge18\" class=\"edge\">\n<title>1&#45;&#45;8</title>\n<path fill=\"none\" stroke=\"#000000\" d=\"M711.0281,-886.6902C797.9378,-882.0586 1068.8094,-864.2328 1142,-819 1216.2377,-773.1201 1203.4688,-727.1225 1233,-645 1265.4311,-554.8135 1341.97,-509.7595 1282,-435 1258.9243,-406.2335 1235.5124,-429.9959 1201,-417 1112.7673,-383.7752 1099.2875,-357.2434 1015,-315 996.2703,-305.613 974.5895,-295.8064 958.6841,-288.8032\"/>\n<text text-anchor=\"middle\" x=\"1284\" y=\"-579.8\" font-family=\"Times,serif\" font-size=\"14.00\" fill=\"#000000\">25.77</text>\n</g>\n<!-- 1&#45;&#45;9 -->\n<g id=\"edge19\" class=\"edge\">\n<title>1&#45;&#45;9</title>\n<path fill=\"none\" stroke=\"#000000\" d=\"M658.0866,-882.8569C623.5098,-874.782 562.2157,-856.07 524,-819 423.3963,-721.4124 388.1463,-691.9829 347,-558 319.5803,-468.7144 316.6383,-433.1595 355,-348 363.265,-329.6526 368.6981,-325.2753 386,-315 413.2498,-298.8168 428.533,-314.4339 455,-297 471.9275,-285.8499 467.3245,-273.8508 483,-261 518.3189,-232.0454 567.8055,-211.0524 596.9214,-200.2595\"/>\n<text text-anchor=\"middle\" x=\"364\" y=\"-536.3\" font-family=\"Times,serif\" font-size=\"14.00\" fill=\"#000000\">25.96</text>\n</g>\n<!-- 1&#45;&#45;10 -->\n<g id=\"edge20\" class=\"edge\">\n<title>1&#45;&#45;10</title>\n<path fill=\"none\" stroke=\"#000000\" d=\"M657.3567,-884.5058C585.7184,-874.3276 384.2936,-840.5129 235,-765 179.3785,-736.8666 157.4362,-731.2271 125,-678 80.5863,-605.1181 80.3601,-573.6826 91,-489 99.0629,-424.8276 91.258,-401.9038 127,-348 215.2149,-214.9597 403.8429,-137.4394 470.8045,-113.2524\"/>\n<text text-anchor=\"middle\" x=\"108\" y=\"-492.8\" font-family=\"Times,serif\" font-size=\"14.00\" fill=\"#000000\">25.41</text>\n</g>\n<!-- 1&#45;&#45;11 -->\n<g id=\"edge21\" class=\"edge\">\n<title>1&#45;&#45;11</title>\n<path fill=\"none\" stroke=\"#ff4500\" d=\"M711.0843,-885.929C794.6532,-879.4851 1045.0179,-859.7589 1081,-852 1124.6928,-842.5784 1138.1692,-842.8046 1176,-819 1250.7442,-771.9679 1266.9767,-751.4536 1316,-678 1387.7772,-570.4533 1428,-538.7992 1428,-409.5 1428,-409.5 1428,-409.5 1428,-105 1428,-79.1353 1394.1814,-75.1815 1288,-54 1161.7541,-28.8159 1007.5477,-21.0093 946.1235,-18.799\"/>\n<text text-anchor=\"middle\" x=\"1444\" y=\"-449.3\" font-family=\"Times,serif\" font-size=\"14.00\" fill=\"#000000\">27.09</text>\n</g>\n<!-- 2&#45;&#45;3 -->\n<g id=\"edge22\" class=\"edge\">\n<title>2&#45;&#45;3</title>\n<path fill=\"none\" stroke=\"#000000\" d=\"M970.2232,-798.4905C922.8561,-793.7856 821.3284,-782.5063 737,-765 679.357,-753.0335 613.1281,-732.9595 578.3115,-721.902\"/>\n<text text-anchor=\"middle\" x=\"754\" y=\"-753.8\" font-family=\"Times,serif\" font-size=\"14.00\" fill=\"#000000\">10.65</text>\n</g>\n<!-- 2&#45;&#45;4 -->\n<g id=\"edge23\" class=\"edge\">\n<title>2&#45;&#45;4</title>\n<path fill=\"none\" stroke=\"#ff4500\" d=\"M971.4738,-795.0218C943.9844,-788.4033 899.0676,-777.065 861,-765 820.7844,-752.2542 802.8158,-760.8121 772,-732 747.4425,-709.0392 767.2438,-684.0128 741,-663 709.8373,-638.0487 690.9308,-657.4473 653,-645 647.1899,-643.0934 641.1005,-640.5614 635.5069,-638.0003\"/>\n<text text-anchor=\"middle\" x=\"785.5\" y=\"-710.3\" font-family=\"Times,serif\" font-size=\"14.00\" fill=\"#000000\">0.89</text>\n</g>\n<!-- 2&#45;&#45;5 -->\n<g id=\"edge24\" class=\"edge\">\n<title>2&#45;&#45;5</title>\n<path fill=\"none\" stroke=\"#000000\" d=\"M990.1229,-783.3153C969.9601,-731.6115 911.9127,-583.853 904,-576 899.12,-571.1568 863.5582,-557.6017 838.8926,-548.5768\"/>\n<text text-anchor=\"middle\" x=\"965\" y=\"-666.8\" font-family=\"Times,serif\" font-size=\"14.00\" fill=\"#000000\">46.46</text>\n</g>\n<!-- 2&#45;&#45;6 -->\n<g id=\"edge25\" class=\"edge\">\n<title>2&#45;&#45;6</title>\n<path fill=\"none\" stroke=\"#000000\" d=\"M983.4428,-785.3682C948.3644,-745.7131 850.3306,-639.8287 750,-576 679.7324,-531.2969 646.2076,-550.3272 577,-504 562.4322,-494.2484 548.5453,-479.9099 538.9513,-468.9179\"/>\n<text text-anchor=\"middle\" x=\"854.5\" y=\"-623.3\" font-family=\"Times,serif\" font-size=\"14.00\" fill=\"#000000\">43.0</text>\n</g>\n<!-- 2&#45;&#45;7 -->\n<g id=\"edge26\" class=\"edge\">\n<title>2&#45;&#45;7</title>\n<path fill=\"none\" stroke=\"#000000\" d=\"M1009.0234,-784.5981C1020.1563,-767.7629 1035,-740.3713 1035,-714 1035,-714 1035,-714 1035,-540 1035,-460.9324 944.728,-400.9415 902.413,-377.164\"/>\n<text text-anchor=\"middle\" x=\"1052\" y=\"-579.8\" font-family=\"Times,serif\" font-size=\"14.00\" fill=\"#000000\">27.74</text>\n</g>\n<!-- 2&#45;&#45;8 -->\n<g id=\"edge27\" class=\"edge\">\n<title>2&#45;&#45;8</title>\n<path fill=\"none\" stroke=\"#000000\" d=\"M1015.9894,-788.1842C1023.8302,-782.0141 1032.3803,-773.9986 1038,-765 1046.0527,-752.1056 1043.7719,-746.8556 1047,-732 1075.2021,-602.2165 1117.9782,-562.2665 1080,-435 1061.0878,-371.6245 1042.8397,-357.3018 992,-315 981.072,-305.9072 967.7175,-297.2414 956.791,-290.6914\"/>\n<text text-anchor=\"middle\" x=\"1112\" y=\"-536.3\" font-family=\"Times,serif\" font-size=\"14.00\" fill=\"#000000\">26.78</text>\n</g>\n<!-- 2&#45;&#45;9 -->\n<g id=\"edge28\" class=\"edge\">\n<title>2&#45;&#45;9</title>\n<path fill=\"none\" stroke=\"#000000\" d=\"M998.014,-782.9248C998.9069,-755.9206 998.2036,-703.8496 983,-663 966.5278,-618.7418 956.3144,-608.4445 922,-576 910.9772,-565.5778 902.4027,-569.9043 893,-558 857.2831,-512.7806 880.948,-484.8248 852,-435 825.9115,-390.097 809.5237,-385.8808 774,-348 724.696,-295.4246 664.2988,-234.9594 636.4335,-207.2766\"/>\n<text text-anchor=\"middle\" x=\"884.5\" y=\"-492.8\" font-family=\"Times,serif\" font-size=\"14.00\" fill=\"#000000\">27.0</text>\n</g>\n<!-- 2&#45;&#45;10 -->\n<g id=\"edge29\" class=\"edge\">\n<title>2&#45;&#45;10</title>\n<path fill=\"none\" stroke=\"#000000\" d=\"M1019.8866,-791.1874C1031.7309,-785.1226 1045.6316,-776.3225 1055,-765 1130.816,-673.3706 1298.4942,-361.5609 1235,-261 1230.8607,-254.4443 990.4951,-142.9837 983,-141 877.0232,-112.952 846.3285,-131.0658 737,-123 658.8507,-117.2345 566.512,-110.3449 521.8573,-107.0083\"/>\n<text text-anchor=\"middle\" x=\"1244\" y=\"-449.3\" font-family=\"Times,serif\" font-size=\"14.00\" fill=\"#000000\">26.44</text>\n</g>\n<!-- 2&#45;&#45;11 -->\n<g id=\"edge30\" class=\"edge\">\n<title>2&#45;&#45;11</title>\n<path fill=\"none\" stroke=\"#000000\" d=\"M1020.5524,-792.1809C1036.3243,-785.7589 1057.1949,-776.239 1074,-765 1139.6322,-721.106 1151.9435,-703.4746 1205,-645 1205.3437,-644.6212 1382,-410.0115 1382,-409.5 1382,-409.5 1382,-409.5 1382,-105 1382,-60.3229 1044.7096,-28.5325 945.8941,-20.1775\"/>\n<text text-anchor=\"middle\" x=\"1395.5\" y=\"-405.8\" font-family=\"Times,serif\" font-size=\"14.00\" fill=\"#000000\">28.1</text>\n</g>\n<!-- 3&#45;&#45;4 -->\n<g id=\"edge31\" class=\"edge\">\n<title>3&#45;&#45;4</title>\n<path fill=\"none\" stroke=\"#ff4500\" d=\"M564.869,-697.3568C571.4676,-687.3386 580.112,-674.3646 588,-663 592.4839,-656.5398 597.5222,-649.5125 601.9614,-643.3956\"/>\n<text text-anchor=\"middle\" x=\"605\" y=\"-666.8\" font-family=\"Times,serif\" font-size=\"14.00\" fill=\"#000000\">11.52</text>\n</g>\n<!-- 3&#45;&#45;5 -->\n<g id=\"edge32\" class=\"edge\">\n<title>3&#45;&#45;5</title>\n<path fill=\"none\" stroke=\"#ff4500\" d=\"M577.5623,-704.7359C592.2339,-698.3755 611.085,-689.092 626,-678 659.807,-652.8584 655.4339,-631.5847 691,-609 712.7125,-595.2124 723.1436,-602.7948 746,-591 765.4592,-580.9583 785.3219,-565.6328 798.7085,-554.4026\"/>\n<text text-anchor=\"middle\" x=\"708\" y=\"-623.3\" font-family=\"Times,serif\" font-size=\"14.00\" fill=\"#000000\">39.31</text>\n</g>\n<!-- 3&#45;&#45;6 -->\n<g id=\"edge33\" class=\"edge\">\n<title>3&#45;&#45;6</title>\n<path fill=\"none\" stroke=\"#000000\" d=\"M544.8531,-696.6908C533.1257,-673.4249 513.4197,-630.4224 506,-591 497.9402,-548.1763 511.1022,-497.3483 519.6275,-470.9435\"/>\n<text text-anchor=\"middle\" x=\"523\" y=\"-579.8\" font-family=\"Times,serif\" font-size=\"14.00\" fill=\"#000000\">46.24</text>\n</g>\n<!-- 3&#45;&#45;7 -->\n<g id=\"edge34\" class=\"edge\">\n<title>3&#45;&#45;7</title>\n<path fill=\"none\" stroke=\"#000000\" d=\"M577.9377,-705.2864C597.2212,-698.1812 624.9798,-687.7597 649,-678 683.116,-664.1382 694.2788,-665.3042 725,-645 744.4085,-632.1726 744.3649,-622.9272 763,-609 799.2095,-581.9384 812.9037,-582.3337 851,-558 886.2262,-535.4995 908.7129,-541.0833 928,-504 939.2698,-482.3316 906.8332,-414.8994 890.1859,-383.0224\"/>\n<text text-anchor=\"middle\" x=\"933\" y=\"-536.3\" font-family=\"Times,serif\" font-size=\"14.00\" fill=\"#000000\">37.66</text>\n</g>\n<!-- 3&#45;&#45;8 -->\n<g id=\"edge35\" class=\"edge\">\n<title>3&#45;&#45;8</title>\n<path fill=\"none\" stroke=\"#000000\" d=\"M555.0448,-695.8015C556.9762,-673.9353 562.461,-636.7321 578,-609 618.5586,-536.616 783.2772,-403.4503 845,-348 862.1445,-332.5978 866.6839,-328.9886 885,-315 895.3358,-307.1062 907.1878,-298.7027 916.8636,-292.0018\"/>\n<text text-anchor=\"middle\" x=\"703\" y=\"-492.8\" font-family=\"Times,serif\" font-size=\"14.00\" fill=\"#000000\">36.78</text>\n</g>\n<!-- 3&#45;&#45;9 -->\n<g id=\"edge36\" class=\"edge\">\n<title>3&#45;&#45;9</title>\n<path fill=\"none\" stroke=\"#000000\" d=\"M536.5893,-699.7867C477.3454,-649.6846 291.7136,-477.3491 374,-348 402.7082,-302.8726 437.2366,-324.683 483,-297 529.6232,-268.7969 579.3036,-227.9859 604.4114,-206.494\"/>\n<text text-anchor=\"middle\" x=\"375.5\" y=\"-449.3\" font-family=\"Times,serif\" font-size=\"14.00\" fill=\"#000000\">36.9</text>\n</g>\n<!-- 3&#45;&#45;10 -->\n<g id=\"edge37\" class=\"edge\">\n<title>3&#45;&#45;10</title>\n<path fill=\"none\" stroke=\"#000000\" d=\"M528.4156,-707.9373C472.2209,-693.1538 338.1631,-649.5585 277,-558 241.9378,-505.5134 263.7846,-480.0069 260,-417 251.4209,-274.1727 416.628,-154.8343 474.9737,-117.2926\"/>\n<text text-anchor=\"middle\" x=\"277\" y=\"-405.8\" font-family=\"Times,serif\" font-size=\"14.00\" fill=\"#000000\">36.39</text>\n</g>\n<!-- 3&#45;&#45;11 -->\n<g id=\"edge38\" class=\"edge\">\n<title>3&#45;&#45;11</title>\n<path fill=\"none\" stroke=\"#000000\" d=\"M527.0391,-711.6593C480.83,-706.5024 385.1901,-690.7229 320,-645 155.121,-529.3576 126,-436.8908 126,-235.5 126,-235.5 126,-235.5 126,-105 126,-81.9875 170.2293,-67.0073 225,-54 355.002,-23.1263 779.5892,-18.7279 891.6676,-18.1031\"/>\n<text text-anchor=\"middle\" x=\"153\" y=\"-362.3\" font-family=\"Times,serif\" font-size=\"14.00\" fill=\"#000000\">38.07</text>\n</g>\n<!-- 4&#45;&#45;5 -->\n<g id=\"edge39\" class=\"edge\">\n<title>4&#45;&#45;5</title>\n<path fill=\"none\" stroke=\"#000000\" d=\"M636.7058,-617.0369C651.7858,-610.1935 671.883,-600.6356 689,-591 699.6348,-585.0134 701.0487,-581.3859 712,-576 737.4973,-563.4602 768.4772,-553.2559 789.761,-546.9553\"/>\n<text text-anchor=\"middle\" x=\"729\" y=\"-579.8\" font-family=\"Times,serif\" font-size=\"14.00\" fill=\"#000000\">47.24</text>\n</g>\n<!-- 4&#45;&#45;6 -->\n<g id=\"edge40\" class=\"edge\">\n<title>4&#45;&#45;6</title>\n<path fill=\"none\" stroke=\"#000000\" d=\"M602.1708,-610.6729C586.096,-587.8236 557.3705,-544.5457 540,-504 535.4441,-493.3659 531.9815,-480.845 529.6395,-470.8708\"/>\n<text text-anchor=\"middle\" x=\"585\" y=\"-536.3\" font-family=\"Times,serif\" font-size=\"14.00\" fill=\"#000000\">43.04</text>\n</g>\n<!-- 4&#45;&#45;7 -->\n<g id=\"edge41\" class=\"edge\">\n<title>4&#45;&#45;7</title>\n<path fill=\"none\" stroke=\"#000000\" d=\"M634.8479,-615.0523C655.6098,-602.5253 687.6672,-581.4295 711,-558 770.8643,-497.8876 758.841,-459.7364 821,-402 832.1257,-391.6658 846.6916,-382.8406 858.6855,-376.5145\"/>\n<text text-anchor=\"middle\" x=\"778\" y=\"-492.8\" font-family=\"Times,serif\" font-size=\"14.00\" fill=\"#000000\">27.04</text>\n</g>\n<!-- 4&#45;&#45;8 -->\n<g id=\"edge42\" class=\"edge\">\n<title>4&#45;&#45;8</title>\n<path fill=\"none\" stroke=\"#000000\" d=\"M635.4831,-615.926C641.0772,-613.3663 647.1727,-610.8534 653,-609 694.7845,-595.71 707.5121,-601.8326 750,-591 795.7603,-579.3331 806.609,-574.1111 851,-558 891.4966,-543.3023 899.8053,-534.6092 941,-522 977.0934,-510.9522 998.5779,-531.9017 1024,-504 1082.1931,-440.1308 989.7498,-333.3586 951.4192,-294.0872\"/>\n<text text-anchor=\"middle\" x=\"1059\" y=\"-449.3\" font-family=\"Times,serif\" font-size=\"14.00\" fill=\"#000000\">26.07</text>\n</g>\n<!-- 4&#45;&#45;9 -->\n<g id=\"edge43\" class=\"edge\">\n<title>4&#45;&#45;9</title>\n<path fill=\"none\" stroke=\"#000000\" d=\"M614.2919,-608.8624C615.4304,-538.1126 619.5662,-281.1005 620.7069,-210.215\"/>\n<text text-anchor=\"middle\" x=\"631.5\" y=\"-405.8\" font-family=\"Times,serif\" font-size=\"14.00\" fill=\"#000000\">26.3</text>\n</g>\n<!-- 4&#45;&#45;10 -->\n<g id=\"edge44\" class=\"edge\">\n<title>4&#45;&#45;10</title>\n<path fill=\"none\" stroke=\"#000000\" d=\"M595.8331,-613.3957C553.0917,-580.0642 447.0636,-489.3135 411,-384 402.615,-359.5141 387.9796,-308.2206 413,-228 426.5256,-184.6342 460.5473,-142.4359 480.2571,-120.5214\"/>\n<text text-anchor=\"middle\" x=\"428\" y=\"-362.3\" font-family=\"Times,serif\" font-size=\"14.00\" fill=\"#000000\">25.73</text>\n</g>\n<!-- 4&#45;&#45;11 -->\n<g id=\"edge45\" class=\"edge\">\n<title>4&#45;&#45;11</title>\n<path fill=\"none\" stroke=\"#000000\" d=\"M588.1488,-620.8242C564.7661,-614.7616 529.7045,-604.4701 501,-591 436.0426,-560.5176 417.5678,-552.8393 365,-504 310.3961,-453.269 164,-310.0334 164,-235.5 164,-235.5 164,-235.5 164,-105 164,-30.2044 756.3271,-19.6531 891.6831,-18.2184\"/>\n<text text-anchor=\"middle\" x=\"223\" y=\"-318.8\" font-family=\"Times,serif\" font-size=\"14.00\" fill=\"#000000\">27.39</text>\n</g>\n<!-- 5&#45;&#45;6 -->\n<g id=\"edge46\" class=\"edge\">\n<title>5&#45;&#45;6</title>\n<path fill=\"none\" stroke=\"#000000\" d=\"M788.3101,-536.5655C740.5167,-530.2087 642.2998,-516.1484 610,-504 585.568,-494.8108 560.3356,-478.3887 543.9866,-466.6616\"/>\n<text text-anchor=\"middle\" x=\"623.5\" y=\"-492.8\" font-family=\"Times,serif\" font-size=\"14.00\" fill=\"#000000\">43.7</text>\n</g>\n<!-- 5&#45;&#45;7 -->\n<g id=\"edge47\" class=\"edge\">\n<title>5&#45;&#45;7</title>\n<path fill=\"none\" stroke=\"#000000\" d=\"M810.7934,-522.1354C806.6144,-500.5979 802.3511,-463.7184 814,-435 823.6026,-411.3264 845.659,-391.3038 861.8531,-379.0242\"/>\n<text text-anchor=\"middle\" x=\"831\" y=\"-449.3\" font-family=\"Times,serif\" font-size=\"14.00\" fill=\"#000000\">62.46</text>\n</g>\n<!-- 5&#45;&#45;8 -->\n<g id=\"edge48\" class=\"edge\">\n<title>5&#45;&#45;8</title>\n<path fill=\"none\" stroke=\"#000000\" d=\"M828.7128,-523.9292C850.9753,-496.9299 894.7287,-439.9152 917,-384 928.5849,-354.9147 933.1544,-318.4714 934.9223,-297.0605\"/>\n<text text-anchor=\"middle\" x=\"922.5\" y=\"-405.8\" font-family=\"Times,serif\" font-size=\"14.00\" fill=\"#000000\">62.2</text>\n</g>\n<!-- 5&#45;&#45;9 -->\n<g id=\"edge49\" class=\"edge\">\n<title>5&#45;&#45;9</title>\n<path fill=\"none\" stroke=\"#000000\" d=\"M803.491,-523.2553C796.1096,-512.9649 786.0549,-499.7413 776,-489 727.5692,-437.2633 689.5326,-446.4322 656,-384 622.8974,-322.3685 652.4674,-295.743 635,-228 633.3926,-221.7662 631.022,-215.1452 628.6867,-209.3041\"/>\n<text text-anchor=\"middle\" x=\"673\" y=\"-362.3\" font-family=\"Times,serif\" font-size=\"14.00\" fill=\"#000000\">61.82</text>\n</g>\n<!-- 5&#45;&#45;10 -->\n<g id=\"edge50\" class=\"edge\">\n<title>5&#45;&#45;10</title>\n<path fill=\"none\" stroke=\"#000000\" d=\"M799.5173,-525.1517C787.184,-513.9741 769.0489,-498.9315 751,-489 729.5731,-477.2097 719.6338,-484.129 699,-471 662.9362,-448.0531 664.4892,-429.7779 632,-402 589.8242,-365.9402 559.2506,-377.1541 530,-330 488.4265,-262.9804 490.3936,-163.7738 493.2869,-123.2479\"/>\n<text text-anchor=\"middle\" x=\"547\" y=\"-318.8\" font-family=\"Times,serif\" font-size=\"14.00\" fill=\"#000000\">61.67</text>\n</g>\n<!-- 5&#45;&#45;11 -->\n<g id=\"edge51\" class=\"edge\">\n<title>5&#45;&#45;11</title>\n<path fill=\"none\" stroke=\"#000000\" d=\"M834.8766,-527.642C838.7966,-525.5456 842.9519,-523.5493 847,-522 881.4418,-508.8181 895.0577,-520.5772 928,-504 1004.2935,-465.6076 1203,-320.9089 1203,-235.5 1203,-235.5 1203,-235.5 1203,-105 1203,-51.5635 1016.8652,-27.6281 945.9741,-20.4498\"/>\n<text text-anchor=\"middle\" x=\"1214\" y=\"-275.3\" font-family=\"Times,serif\" font-size=\"14.00\" fill=\"#000000\">63.05</text>\n</g>\n<!-- 6&#45;&#45;7 -->\n<g id=\"edge52\" class=\"edge\">\n<title>6&#45;&#45;7</title>\n<path fill=\"none\" stroke=\"#000000\" d=\"M552.2736,-448.6799C587.668,-442.6545 652.5139,-430.8899 707,-417 728.6581,-411.4788 733.5863,-408.4039 755,-402 789.8744,-391.5705 830.3746,-380.1154 855.8455,-372.9907\"/>\n<text text-anchor=\"middle\" x=\"772\" y=\"-405.8\" font-family=\"Times,serif\" font-size=\"14.00\" fill=\"#000000\">34.81</text>\n</g>\n<!-- 6&#45;&#45;8 -->\n<g id=\"edge53\" class=\"edge\">\n<title>6&#45;&#45;8</title>\n<path fill=\"none\" stroke=\"#000000\" d=\"M551.1822,-446.1698C573.6075,-439.74 607.0905,-429.2794 635,-417 662.5011,-404.9003 668.3874,-399.707 694,-384 740.9714,-355.1948 746.7297,-337.5599 797,-315 834.2985,-298.2615 880.8539,-288.1948 909.4986,-283.1211\"/>\n<text text-anchor=\"middle\" x=\"760\" y=\"-362.3\" font-family=\"Times,serif\" font-size=\"14.00\" fill=\"#000000\">35.37</text>\n</g>\n<!-- 6&#45;&#45;9 -->\n<g id=\"edge54\" class=\"edge\">\n<title>6&#45;&#45;9</title>\n<path fill=\"none\" stroke=\"#ff4500\" d=\"M531.8352,-435.0484C540.4845,-408.6334 557.3715,-357.793 573,-315 586.84,-277.1044 604.3375,-233.1786 613.9219,-209.4256\"/>\n<text text-anchor=\"middle\" x=\"590\" y=\"-318.8\" font-family=\"Times,serif\" font-size=\"14.00\" fill=\"#000000\">34.61</text>\n</g>\n<!-- 6&#45;&#45;10 -->\n<g id=\"edge55\" class=\"edge\">\n<title>6&#45;&#45;10</title>\n<path fill=\"none\" stroke=\"#000000\" d=\"M515.9326,-435.9829C500.0826,-408.0951 469.9847,-350.4119 459,-297 445.7804,-232.7213 473.1128,-155.9198 487.2466,-122.2504\"/>\n<text text-anchor=\"middle\" x=\"476\" y=\"-275.3\" font-family=\"Times,serif\" font-size=\"14.00\" fill=\"#000000\">34.95</text>\n</g>\n<!-- 6&#45;&#45;11 -->\n<g id=\"edge56\" class=\"edge\">\n<title>6&#45;&#45;11</title>\n<path fill=\"none\" stroke=\"#000000\" d=\"M512.0628,-437.5199C506.5949,-431.2672 500.359,-423.9078 495,-417 443.2735,-350.3235 434.0892,-326.0283 419,-243 408.0001,-182.4732 406.6736,-133.0761 459,-87 524.001,-29.7633 803.0225,-20.0006 891.7783,-18.3395\"/>\n<text text-anchor=\"middle\" x=\"436\" y=\"-231.8\" font-family=\"Times,serif\" font-size=\"14.00\" fill=\"#000000\">35.31</text>\n</g>\n<!-- 7&#45;&#45;8 -->\n<g id=\"edge57\" class=\"edge\">\n<title>7&#45;&#45;8</title>\n<path fill=\"none\" stroke=\"#ff4500\" d=\"M883.3248,-347.9724C885.2664,-337.7132 888.7664,-324.9632 895,-315 900.6272,-306.0061 909.1782,-297.9912 917.0177,-291.8202\"/>\n<text text-anchor=\"middle\" x=\"908.5\" y=\"-318.8\" font-family=\"Times,serif\" font-size=\"14.00\" fill=\"#000000\">1.15</text>\n</g>\n<!-- 7&#45;&#45;9 -->\n<g id=\"edge58\" class=\"edge\">\n<title>7&#45;&#45;9</title>\n<path fill=\"none\" stroke=\"#000000\" d=\"M866.7224,-350.639C836.524,-318.4387 766.5335,-245.4044 737,-228 708.6602,-211.299 671.7843,-201.5842 647.2994,-196.5429\"/>\n<text text-anchor=\"middle\" x=\"828.5\" y=\"-275.3\" font-family=\"Times,serif\" font-size=\"14.00\" fill=\"#000000\">0.76</text>\n</g>\n<!-- 7&#45;&#45;10 -->\n<g id=\"edge59\" class=\"edge\">\n<title>7&#45;&#45;10</title>\n<path fill=\"none\" stroke=\"#000000\" d=\"M880.4698,-347.7884C878.6486,-318.6855 870.9367,-261.5639 839,-228 750.4656,-134.9547 586.7526,-112.1482 522.1924,-106.6795\"/>\n<text text-anchor=\"middle\" x=\"864.5\" y=\"-231.8\" font-family=\"Times,serif\" font-size=\"14.00\" fill=\"#000000\">1.32</text>\n</g>\n<!-- 7&#45;&#45;11 -->\n<g id=\"edge60\" class=\"edge\">\n<title>7&#45;&#45;11</title>\n<path fill=\"none\" stroke=\"#ff4500\" d=\"M907.8689,-363.2988C977.066,-355.6026 1156,-330.7027 1156,-279 1156,-279 1156,-279 1156,-105 1156,-60.6216 1007.7077,-32.0148 945.7262,-21.9963\"/>\n<text text-anchor=\"middle\" x=\"1165.5\" y=\"-188.3\" font-family=\"Times,serif\" font-size=\"14.00\" fill=\"#000000\">0.6</text>\n</g>\n<!-- 8&#45;&#45;9 -->\n<g id=\"edge61\" class=\"edge\">\n<title>8&#45;&#45;9</title>\n<path fill=\"none\" stroke=\"#000000\" d=\"M910.0357,-273.814C884.3828,-268.1527 844.3944,-257.8657 812,-243 800.9081,-237.91 800.2666,-232.6906 789,-228 741.4976,-208.2237 681.7326,-198.7534 647.7991,-194.6796\"/>\n<text text-anchor=\"middle\" x=\"825.5\" y=\"-231.8\" font-family=\"Times,serif\" font-size=\"14.00\" fill=\"#000000\">0.81</text>\n</g>\n<!-- 8&#45;&#45;10 -->\n<g id=\"edge62\" class=\"edge\">\n<title>8&#45;&#45;10</title>\n<path fill=\"none\" stroke=\"#ff4500\" d=\"M933.5637,-261.041C928.4037,-230.6809 913.334,-169.7183 873,-141 858.6854,-130.8079 605.9242,-112.6155 521.9051,-106.8238\"/>\n<text text-anchor=\"middle\" x=\"933.5\" y=\"-188.3\" font-family=\"Times,serif\" font-size=\"14.00\" fill=\"#000000\">0.53</text>\n</g>\n<!-- 8&#45;&#45;11 -->\n<g id=\"edge63\" class=\"edge\">\n<title>8&#45;&#45;11</title>\n<path fill=\"none\" stroke=\"#000000\" d=\"M940.9437,-261.3008C944.5411,-247.4628 949.1011,-227.6738 951,-210 957.9492,-145.3205 936.3536,-69.3497 925.2126,-35.6406\"/>\n<text text-anchor=\"middle\" x=\"965.5\" y=\"-144.8\" font-family=\"Times,serif\" font-size=\"14.00\" fill=\"#000000\">1.33</text>\n</g>\n<!-- 9&#45;&#45;10 -->\n<g id=\"edge64\" class=\"edge\">\n<title>9&#45;&#45;10</title>\n<path fill=\"none\" stroke=\"#ff4500\" d=\"M602.1365,-178.9752C578.383,-162.574 537.8067,-134.557 513.9924,-118.1138\"/>\n<text text-anchor=\"middle\" x=\"579.5\" y=\"-144.8\" font-family=\"Times,serif\" font-size=\"14.00\" fill=\"#000000\">0.67</text>\n</g>\n<!-- 9&#45;&#45;11 -->\n<g id=\"edge65\" class=\"edge\">\n<title>9&#45;&#45;11</title>\n<path fill=\"none\" stroke=\"#000000\" d=\"M641.4827,-180.0403C695.9227,-148.2532 843.7704,-61.926 898.3739,-30.0434\"/>\n<text text-anchor=\"middle\" x=\"813.5\" y=\"-101.3\" font-family=\"Times,serif\" font-size=\"14.00\" fill=\"#000000\">1.27</text>\n</g>\n<!-- 10&#45;&#45;11 -->\n<g id=\"edge66\" class=\"edge\">\n<title>10&#45;&#45;11</title>\n<path fill=\"none\" stroke=\"#000000\" d=\"M520.8848,-99.6887C596.6698,-84.1385 817.4897,-38.8288 893.1852,-23.2969\"/>\n<text text-anchor=\"middle\" x=\"746.5\" y=\"-57.8\" font-family=\"Times,serif\" font-size=\"14.00\" fill=\"#000000\">1.68</text>\n</g>\n</g>\n</svg>\n"
          },
          "metadata": {
            "tags": []
          },
          "execution_count": 116
        }
      ]
    },
    {
      "cell_type": "markdown",
      "metadata": {
        "id": "etFk-K9B_ZNi"
      },
      "source": [
        "#GRAFICANDO"
      ]
    },
    {
      "cell_type": "code",
      "metadata": {
        "id": "y83yxxTY-96R"
      },
      "source": [
        "v = []\n",
        "nx_path = path[:]\n",
        "indice = [0]\n",
        "\n",
        "# PAREMETROS PARA GRAFICAR\n",
        "for i in range(1, len(path)):\n",
        "  v.append((i, path[i]))\n",
        "  indice.append(i)"
      ],
      "execution_count": 117,
      "outputs": []
    },
    {
      "cell_type": "markdown",
      "metadata": {
        "id": "tHpIYyzS_mLa"
      },
      "source": [
        "######DATOS PARA GRAFICAR"
      ]
    },
    {
      "cell_type": "code",
      "metadata": {
        "id": "T9Eps_Li_jra"
      },
      "source": [
        "v = []\n",
        "nx_path = path_2[:]\n",
        "indice = [0]\n",
        "\n",
        "# PAREMETROS PARA GRAFICAR\n",
        "for i in range(1, len(path)):\n",
        "  v.append((i, path[i]))\n",
        "  indice.append(i)"
      ],
      "execution_count": 119,
      "outputs": []
    },
    {
      "cell_type": "code",
      "metadata": {
        "colab": {
          "base_uri": "https://localhost:8080/",
          "height": 313
        },
        "id": "h4Q2GUxZ_Y3a",
        "outputId": "0a1cf943-ddee-4630-e071-af8449f0f55c"
      },
      "source": [
        "pos = nx.spring_layout(G, seed=3113794652)\n",
        "options = {\"node_size\": 500, \"alpha\": 0.8}\n",
        "nx.draw_networkx_nodes(G, pos, nodelist=indice, node_color=\"b\", **options)\n",
        "nx.draw_networkx_edges(G, pos, width=1.0, alpha=0.5)\n",
        "nx.draw_networkx_edges(\n",
        "    G,\n",
        "    pos,\n",
        "    edgelist=v,\n",
        "    width=2,\n",
        "    alpha=0.5,\n",
        "    edge_color=\"tab:red\",\n",
        ")\n",
        "nx.draw_networkx_labels(G, pos, font_size=16)\n",
        "\n",
        "plt.tight_layout()\n",
        "plt.axis(\"off\")\n",
        "plt.show()\n",
        "print(path)"
      ],
      "execution_count": 120,
      "outputs": [
        {
          "output_type": "display_data",
          "data": {
            "image/png": "[encoded data removed]",
            "text/plain": [
              "<Figure size 432x288 with 1 Axes>"
            ]
          },
          "metadata": {
            "tags": []
          }
        },
        {
          "output_type": "stream",
          "text": [
            "[-1, 3, 4, 2, 0]\n"
          ],
          "name": "stdout"
        }
      ]
    }
  ]
}